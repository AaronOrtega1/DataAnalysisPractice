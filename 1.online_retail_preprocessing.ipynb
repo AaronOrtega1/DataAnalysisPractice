{
 "cells": [
  {
   "cell_type": "markdown",
   "metadata": {},
   "source": [
    "## <center> Online Retail Preprocessing </center>\n",
    "---\n",
    "\n",
    "**Name**: Francisco Aarón Ortega Anguiano\n",
    "\n",
    "This practice exercise involves preprocessing and exploratory data analysis (EDA) on a dataset sourced from **Kaggle**.\n",
    "\n",
    "### Dataset columns:\n",
    "- `InvoiceNo`\n",
    "- `InvoiceDate`\n",
    "- `InvoiceTime`\n",
    "- `StockCode`\n",
    "- `Description`\n",
    "- `Quantity`\n",
    "- `UnitPrice`\n",
    "- `Totalsale`\n",
    "- `CustomerID`\n",
    "- `Country`"
   ]
  },
  {
   "cell_type": "markdown",
   "metadata": {},
   "source": [
    "#### Import important libraries and read the dataset"
   ]
  },
  {
   "cell_type": "code",
   "execution_count": 29,
   "metadata": {},
   "outputs": [
    {
     "data": {
      "text/html": [
       "<div>\n",
       "<style scoped>\n",
       "    .dataframe tbody tr th:only-of-type {\n",
       "        vertical-align: middle;\n",
       "    }\n",
       "\n",
       "    .dataframe tbody tr th {\n",
       "        vertical-align: top;\n",
       "    }\n",
       "\n",
       "    .dataframe thead th {\n",
       "        text-align: right;\n",
       "    }\n",
       "</style>\n",
       "<table border=\"1\" class=\"dataframe\">\n",
       "  <thead>\n",
       "    <tr style=\"text-align: right;\">\n",
       "      <th></th>\n",
       "      <th>InvoiceNo</th>\n",
       "      <th>InvoiceDate</th>\n",
       "      <th>InvoiceTime</th>\n",
       "      <th>StockCode</th>\n",
       "      <th>Description</th>\n",
       "      <th>Quantity</th>\n",
       "      <th>UnitPrice</th>\n",
       "      <th>Totalsale</th>\n",
       "      <th>CustomerID</th>\n",
       "      <th>Country</th>\n",
       "    </tr>\n",
       "  </thead>\n",
       "  <tbody>\n",
       "    <tr>\n",
       "      <th>0</th>\n",
       "      <td>536365</td>\n",
       "      <td>01-12-2010</td>\n",
       "      <td>08:26:00 AM</td>\n",
       "      <td>85123A</td>\n",
       "      <td>WHITE HANGING HEART T-LIGHT HOLDER</td>\n",
       "      <td>6</td>\n",
       "      <td>2.55</td>\n",
       "      <td>15.30</td>\n",
       "      <td>17850.0</td>\n",
       "      <td>United Kingdom</td>\n",
       "    </tr>\n",
       "    <tr>\n",
       "      <th>1</th>\n",
       "      <td>536365</td>\n",
       "      <td>01-12-2010</td>\n",
       "      <td>08:26:00 AM</td>\n",
       "      <td>71053</td>\n",
       "      <td>WHITE METAL LANTERN</td>\n",
       "      <td>6</td>\n",
       "      <td>3.39</td>\n",
       "      <td>20.34</td>\n",
       "      <td>17850.0</td>\n",
       "      <td>United Kingdom</td>\n",
       "    </tr>\n",
       "    <tr>\n",
       "      <th>2</th>\n",
       "      <td>536365</td>\n",
       "      <td>01-12-2010</td>\n",
       "      <td>08:26:00 AM</td>\n",
       "      <td>84406B</td>\n",
       "      <td>CREAM CUPID HEARTS COAT HANGER</td>\n",
       "      <td>8</td>\n",
       "      <td>2.75</td>\n",
       "      <td>22.00</td>\n",
       "      <td>17850.0</td>\n",
       "      <td>United Kingdom</td>\n",
       "    </tr>\n",
       "    <tr>\n",
       "      <th>3</th>\n",
       "      <td>536365</td>\n",
       "      <td>01-12-2010</td>\n",
       "      <td>08:26:00 AM</td>\n",
       "      <td>84029G</td>\n",
       "      <td>KNITTED UNION FLAG HOT WATER BOTTLE</td>\n",
       "      <td>6</td>\n",
       "      <td>3.39</td>\n",
       "      <td>20.34</td>\n",
       "      <td>17850.0</td>\n",
       "      <td>United Kingdom</td>\n",
       "    </tr>\n",
       "    <tr>\n",
       "      <th>4</th>\n",
       "      <td>536365</td>\n",
       "      <td>01-12-2010</td>\n",
       "      <td>08:26:00 AM</td>\n",
       "      <td>84029E</td>\n",
       "      <td>RED WOOLLY HOTTIE WHITE HEART.</td>\n",
       "      <td>6</td>\n",
       "      <td>3.39</td>\n",
       "      <td>20.34</td>\n",
       "      <td>17850.0</td>\n",
       "      <td>United Kingdom</td>\n",
       "    </tr>\n",
       "  </tbody>\n",
       "</table>\n",
       "</div>"
      ],
      "text/plain": [
       "  InvoiceNo InvoiceDate  InvoiceTime StockCode  \\\n",
       "0    536365  01-12-2010  08:26:00 AM    85123A   \n",
       "1    536365  01-12-2010  08:26:00 AM     71053   \n",
       "2    536365  01-12-2010  08:26:00 AM    84406B   \n",
       "3    536365  01-12-2010  08:26:00 AM    84029G   \n",
       "4    536365  01-12-2010  08:26:00 AM    84029E   \n",
       "\n",
       "                           Description  Quantity  UnitPrice  Totalsale  \\\n",
       "0   WHITE HANGING HEART T-LIGHT HOLDER         6       2.55      15.30   \n",
       "1                  WHITE METAL LANTERN         6       3.39      20.34   \n",
       "2       CREAM CUPID HEARTS COAT HANGER         8       2.75      22.00   \n",
       "3  KNITTED UNION FLAG HOT WATER BOTTLE         6       3.39      20.34   \n",
       "4       RED WOOLLY HOTTIE WHITE HEART.         6       3.39      20.34   \n",
       "\n",
       "   CustomerID         Country  \n",
       "0     17850.0  United Kingdom  \n",
       "1     17850.0  United Kingdom  \n",
       "2     17850.0  United Kingdom  \n",
       "3     17850.0  United Kingdom  \n",
       "4     17850.0  United Kingdom  "
      ]
     },
     "execution_count": 29,
     "metadata": {},
     "output_type": "execute_result"
    }
   ],
   "source": [
    "import pandas as pd\n",
    "import matplotlib.pyplot as plt\n",
    "import seaborn as sns\n",
    "\n",
    "retail_df = pd.read_csv('db/Online-Retail.csv')\n",
    "\n",
    "retail_df.head()"
   ]
  },
  {
   "cell_type": "code",
   "execution_count": 31,
   "metadata": {},
   "outputs": [
    {
     "name": "stdout",
     "output_type": "stream",
     "text": [
      "data shape: (541909, 10)\n"
     ]
    }
   ],
   "source": [
    "print(f\"data shape: {retail_df.shape}\")"
   ]
  },
  {
   "cell_type": "markdown",
   "metadata": {},
   "source": [
    "#### Check for duplicates\n",
    "Our data has duplicates that we are going to drop"
   ]
  },
  {
   "cell_type": "code",
   "execution_count": 32,
   "metadata": {},
   "outputs": [
    {
     "name": "stdout",
     "output_type": "stream",
     "text": [
      "Our data has: 5268 duplicates\n"
     ]
    }
   ],
   "source": [
    "print(f\"Our data has: {retail_df.duplicated().sum()} duplicates\")"
   ]
  },
  {
   "cell_type": "code",
   "execution_count": 33,
   "metadata": {},
   "outputs": [
    {
     "name": "stdout",
     "output_type": "stream",
     "text": [
      "<class 'pandas.core.frame.DataFrame'>\n",
      "RangeIndex: 541909 entries, 0 to 541908\n",
      "Data columns (total 10 columns):\n",
      " #   Column       Non-Null Count   Dtype  \n",
      "---  ------       --------------   -----  \n",
      " 0   InvoiceNo    541909 non-null  object \n",
      " 1   InvoiceDate  541909 non-null  object \n",
      " 2   InvoiceTime  541909 non-null  object \n",
      " 3   StockCode    541909 non-null  object \n",
      " 4   Description  540455 non-null  object \n",
      " 5   Quantity     541909 non-null  int64  \n",
      " 6   UnitPrice    541909 non-null  float64\n",
      " 7   Totalsale    541909 non-null  float64\n",
      " 8   CustomerID   406829 non-null  float64\n",
      " 9   Country      541909 non-null  object \n",
      "dtypes: float64(3), int64(1), object(6)\n",
      "memory usage: 41.3+ MB\n"
     ]
    }
   ],
   "source": [
    "retail_df.info()"
   ]
  },
  {
   "cell_type": "markdown",
   "metadata": {},
   "source": [
    "#### Check the count of null values per column in the DataFrame\n",
    "We can drop the missing values in the description, but it has a lot of nulls in CustomerID which isn't very good"
   ]
  },
  {
   "cell_type": "code",
   "execution_count": 34,
   "metadata": {},
   "outputs": [
    {
     "data": {
      "text/plain": [
       "InvoiceNo           0\n",
       "InvoiceDate         0\n",
       "InvoiceTime         0\n",
       "StockCode           0\n",
       "Description      1454\n",
       "Quantity            0\n",
       "UnitPrice           0\n",
       "Totalsale           0\n",
       "CustomerID     135080\n",
       "Country             0\n",
       "dtype: int64"
      ]
     },
     "execution_count": 34,
     "metadata": {},
     "output_type": "execute_result"
    }
   ],
   "source": [
    "retail_df.isnull().sum()"
   ]
  },
  {
   "cell_type": "markdown",
   "metadata": {},
   "source": [
    "#### Describe to have a fast overview\n",
    "We can see that `Quantity`, `UnitPrice` and `Totalsale` have negative values, we are going to explore why."
   ]
  },
  {
   "cell_type": "code",
   "execution_count": 35,
   "metadata": {},
   "outputs": [
    {
     "data": {
      "text/html": [
       "<div>\n",
       "<style scoped>\n",
       "    .dataframe tbody tr th:only-of-type {\n",
       "        vertical-align: middle;\n",
       "    }\n",
       "\n",
       "    .dataframe tbody tr th {\n",
       "        vertical-align: top;\n",
       "    }\n",
       "\n",
       "    .dataframe thead th {\n",
       "        text-align: right;\n",
       "    }\n",
       "</style>\n",
       "<table border=\"1\" class=\"dataframe\">\n",
       "  <thead>\n",
       "    <tr style=\"text-align: right;\">\n",
       "      <th></th>\n",
       "      <th>Quantity</th>\n",
       "      <th>UnitPrice</th>\n",
       "      <th>Totalsale</th>\n",
       "      <th>CustomerID</th>\n",
       "    </tr>\n",
       "  </thead>\n",
       "  <tbody>\n",
       "    <tr>\n",
       "      <th>count</th>\n",
       "      <td>541909.000000</td>\n",
       "      <td>541909.000000</td>\n",
       "      <td>541909.000000</td>\n",
       "      <td>406829.000000</td>\n",
       "    </tr>\n",
       "    <tr>\n",
       "      <th>mean</th>\n",
       "      <td>9.552250</td>\n",
       "      <td>4.611114</td>\n",
       "      <td>17.987795</td>\n",
       "      <td>15287.690570</td>\n",
       "    </tr>\n",
       "    <tr>\n",
       "      <th>std</th>\n",
       "      <td>218.081158</td>\n",
       "      <td>96.759853</td>\n",
       "      <td>378.810824</td>\n",
       "      <td>1713.600303</td>\n",
       "    </tr>\n",
       "    <tr>\n",
       "      <th>min</th>\n",
       "      <td>-80995.000000</td>\n",
       "      <td>-11062.060000</td>\n",
       "      <td>-168469.600000</td>\n",
       "      <td>12346.000000</td>\n",
       "    </tr>\n",
       "    <tr>\n",
       "      <th>25%</th>\n",
       "      <td>1.000000</td>\n",
       "      <td>1.250000</td>\n",
       "      <td>3.400000</td>\n",
       "      <td>13953.000000</td>\n",
       "    </tr>\n",
       "    <tr>\n",
       "      <th>50%</th>\n",
       "      <td>3.000000</td>\n",
       "      <td>2.080000</td>\n",
       "      <td>9.750000</td>\n",
       "      <td>15152.000000</td>\n",
       "    </tr>\n",
       "    <tr>\n",
       "      <th>75%</th>\n",
       "      <td>10.000000</td>\n",
       "      <td>4.130000</td>\n",
       "      <td>17.400000</td>\n",
       "      <td>16791.000000</td>\n",
       "    </tr>\n",
       "    <tr>\n",
       "      <th>max</th>\n",
       "      <td>80995.000000</td>\n",
       "      <td>38970.000000</td>\n",
       "      <td>168469.600000</td>\n",
       "      <td>18287.000000</td>\n",
       "    </tr>\n",
       "  </tbody>\n",
       "</table>\n",
       "</div>"
      ],
      "text/plain": [
       "            Quantity      UnitPrice      Totalsale     CustomerID\n",
       "count  541909.000000  541909.000000  541909.000000  406829.000000\n",
       "mean        9.552250       4.611114      17.987795   15287.690570\n",
       "std       218.081158      96.759853     378.810824    1713.600303\n",
       "min    -80995.000000  -11062.060000 -168469.600000   12346.000000\n",
       "25%         1.000000       1.250000       3.400000   13953.000000\n",
       "50%         3.000000       2.080000       9.750000   15152.000000\n",
       "75%        10.000000       4.130000      17.400000   16791.000000\n",
       "max     80995.000000   38970.000000  168469.600000   18287.000000"
      ]
     },
     "execution_count": 35,
     "metadata": {},
     "output_type": "execute_result"
    }
   ],
   "source": [
    "retail_df.describe()"
   ]
  },
  {
   "cell_type": "markdown",
   "metadata": {},
   "source": [
    "I'm going to start by dividing the data into two different dataframes one with the non negative values and the other containing them, to see if the values should be negative or are a mistake that needs to be fixed."
   ]
  },
  {
   "cell_type": "code",
   "execution_count": 36,
   "metadata": {},
   "outputs": [
    {
     "data": {
      "text/html": [
       "<div>\n",
       "<style scoped>\n",
       "    .dataframe tbody tr th:only-of-type {\n",
       "        vertical-align: middle;\n",
       "    }\n",
       "\n",
       "    .dataframe tbody tr th {\n",
       "        vertical-align: top;\n",
       "    }\n",
       "\n",
       "    .dataframe thead th {\n",
       "        text-align: right;\n",
       "    }\n",
       "</style>\n",
       "<table border=\"1\" class=\"dataframe\">\n",
       "  <thead>\n",
       "    <tr style=\"text-align: right;\">\n",
       "      <th></th>\n",
       "      <th>Quantity</th>\n",
       "      <th>UnitPrice</th>\n",
       "      <th>Totalsale</th>\n",
       "      <th>CustomerID</th>\n",
       "    </tr>\n",
       "  </thead>\n",
       "  <tbody>\n",
       "    <tr>\n",
       "      <th>count</th>\n",
       "      <td>531283.000000</td>\n",
       "      <td>531283.000000</td>\n",
       "      <td>531283.000000</td>\n",
       "      <td>397924.000000</td>\n",
       "    </tr>\n",
       "    <tr>\n",
       "      <th>mean</th>\n",
       "      <td>10.655299</td>\n",
       "      <td>3.898954</td>\n",
       "      <td>20.077218</td>\n",
       "      <td>15294.315171</td>\n",
       "    </tr>\n",
       "    <tr>\n",
       "      <th>std</th>\n",
       "      <td>156.830617</td>\n",
       "      <td>35.876279</td>\n",
       "      <td>270.058254</td>\n",
       "      <td>1713.169877</td>\n",
       "    </tr>\n",
       "    <tr>\n",
       "      <th>min</th>\n",
       "      <td>1.000000</td>\n",
       "      <td>0.000000</td>\n",
       "      <td>0.000000</td>\n",
       "      <td>12346.000000</td>\n",
       "    </tr>\n",
       "    <tr>\n",
       "      <th>25%</th>\n",
       "      <td>1.000000</td>\n",
       "      <td>1.250000</td>\n",
       "      <td>3.750000</td>\n",
       "      <td>13969.000000</td>\n",
       "    </tr>\n",
       "    <tr>\n",
       "      <th>50%</th>\n",
       "      <td>3.000000</td>\n",
       "      <td>2.080000</td>\n",
       "      <td>9.900000</td>\n",
       "      <td>15159.000000</td>\n",
       "    </tr>\n",
       "    <tr>\n",
       "      <th>75%</th>\n",
       "      <td>10.000000</td>\n",
       "      <td>4.130000</td>\n",
       "      <td>17.700000</td>\n",
       "      <td>16795.000000</td>\n",
       "    </tr>\n",
       "    <tr>\n",
       "      <th>max</th>\n",
       "      <td>80995.000000</td>\n",
       "      <td>13541.330000</td>\n",
       "      <td>168469.600000</td>\n",
       "      <td>18287.000000</td>\n",
       "    </tr>\n",
       "  </tbody>\n",
       "</table>\n",
       "</div>"
      ],
      "text/plain": [
       "            Quantity      UnitPrice      Totalsale     CustomerID\n",
       "count  531283.000000  531283.000000  531283.000000  397924.000000\n",
       "mean       10.655299       3.898954      20.077218   15294.315171\n",
       "std       156.830617      35.876279     270.058254    1713.169877\n",
       "min         1.000000       0.000000       0.000000   12346.000000\n",
       "25%         1.000000       1.250000       3.750000   13969.000000\n",
       "50%         3.000000       2.080000       9.900000   15159.000000\n",
       "75%        10.000000       4.130000      17.700000   16795.000000\n",
       "max     80995.000000   13541.330000  168469.600000   18287.000000"
      ]
     },
     "execution_count": 36,
     "metadata": {},
     "output_type": "execute_result"
    }
   ],
   "source": [
    "no_neg_values_df = retail_df[\n",
    "\t(retail_df['Quantity'] >= 0) &\n",
    "\t(retail_df['UnitPrice'] >= 0) &\n",
    "\t(retail_df['Totalsale'] >= 0)\n",
    "]\n",
    "\n",
    "no_neg_values_df.describe()"
   ]
  },
  {
   "cell_type": "code",
   "execution_count": 37,
   "metadata": {},
   "outputs": [
    {
     "data": {
      "text/html": [
       "<div>\n",
       "<style scoped>\n",
       "    .dataframe tbody tr th:only-of-type {\n",
       "        vertical-align: middle;\n",
       "    }\n",
       "\n",
       "    .dataframe tbody tr th {\n",
       "        vertical-align: top;\n",
       "    }\n",
       "\n",
       "    .dataframe thead th {\n",
       "        text-align: right;\n",
       "    }\n",
       "</style>\n",
       "<table border=\"1\" class=\"dataframe\">\n",
       "  <thead>\n",
       "    <tr style=\"text-align: right;\">\n",
       "      <th></th>\n",
       "      <th>Quantity</th>\n",
       "      <th>UnitPrice</th>\n",
       "      <th>Totalsale</th>\n",
       "      <th>CustomerID</th>\n",
       "    </tr>\n",
       "  </thead>\n",
       "  <tbody>\n",
       "    <tr>\n",
       "      <th>count</th>\n",
       "      <td>10626.000000</td>\n",
       "      <td>10626.000000</td>\n",
       "      <td>10626.000000</td>\n",
       "      <td>8905.000000</td>\n",
       "    </tr>\n",
       "    <tr>\n",
       "      <th>mean</th>\n",
       "      <td>-45.598438</td>\n",
       "      <td>40.217975</td>\n",
       "      <td>-86.480012</td>\n",
       "      <td>14991.667266</td>\n",
       "    </tr>\n",
       "    <tr>\n",
       "      <th>std</th>\n",
       "      <td>1092.111602</td>\n",
       "      <td>641.765091</td>\n",
       "      <td>1913.347799</td>\n",
       "      <td>1706.772357</td>\n",
       "    </tr>\n",
       "    <tr>\n",
       "      <th>min</th>\n",
       "      <td>-80995.000000</td>\n",
       "      <td>-11062.060000</td>\n",
       "      <td>-168469.600000</td>\n",
       "      <td>12346.000000</td>\n",
       "    </tr>\n",
       "    <tr>\n",
       "      <th>25%</th>\n",
       "      <td>-10.000000</td>\n",
       "      <td>1.060000</td>\n",
       "      <td>-15.950000</td>\n",
       "      <td>13510.000000</td>\n",
       "    </tr>\n",
       "    <tr>\n",
       "      <th>50%</th>\n",
       "      <td>-2.000000</td>\n",
       "      <td>2.100000</td>\n",
       "      <td>-6.800000</td>\n",
       "      <td>14895.000000</td>\n",
       "    </tr>\n",
       "    <tr>\n",
       "      <th>75%</th>\n",
       "      <td>-1.000000</td>\n",
       "      <td>4.950000</td>\n",
       "      <td>-2.100000</td>\n",
       "      <td>16393.000000</td>\n",
       "    </tr>\n",
       "    <tr>\n",
       "      <th>max</th>\n",
       "      <td>1.000000</td>\n",
       "      <td>38970.000000</td>\n",
       "      <td>0.000000</td>\n",
       "      <td>18282.000000</td>\n",
       "    </tr>\n",
       "  </tbody>\n",
       "</table>\n",
       "</div>"
      ],
      "text/plain": [
       "           Quantity     UnitPrice      Totalsale    CustomerID\n",
       "count  10626.000000  10626.000000   10626.000000   8905.000000\n",
       "mean     -45.598438     40.217975     -86.480012  14991.667266\n",
       "std     1092.111602    641.765091    1913.347799   1706.772357\n",
       "min   -80995.000000 -11062.060000 -168469.600000  12346.000000\n",
       "25%      -10.000000      1.060000     -15.950000  13510.000000\n",
       "50%       -2.000000      2.100000      -6.800000  14895.000000\n",
       "75%       -1.000000      4.950000      -2.100000  16393.000000\n",
       "max        1.000000  38970.000000       0.000000  18282.000000"
      ]
     },
     "execution_count": 37,
     "metadata": {},
     "output_type": "execute_result"
    }
   ],
   "source": [
    "neg_values_df = retail_df[\n",
    "\t(retail_df['Quantity'] < 0) |\n",
    "\t(retail_df['UnitPrice'] < 0) |\n",
    "\t(retail_df['Totalsale'] < 0)\n",
    "]\n",
    "\n",
    "neg_values_df.describe()"
   ]
  },
  {
   "cell_type": "code",
   "execution_count": 38,
   "metadata": {},
   "outputs": [
    {
     "data": {
      "text/html": [
       "<div>\n",
       "<style scoped>\n",
       "    .dataframe tbody tr th:only-of-type {\n",
       "        vertical-align: middle;\n",
       "    }\n",
       "\n",
       "    .dataframe tbody tr th {\n",
       "        vertical-align: top;\n",
       "    }\n",
       "\n",
       "    .dataframe thead th {\n",
       "        text-align: right;\n",
       "    }\n",
       "</style>\n",
       "<table border=\"1\" class=\"dataframe\">\n",
       "  <thead>\n",
       "    <tr style=\"text-align: right;\">\n",
       "      <th></th>\n",
       "      <th>InvoiceNo</th>\n",
       "      <th>InvoiceDate</th>\n",
       "      <th>InvoiceTime</th>\n",
       "      <th>StockCode</th>\n",
       "      <th>Description</th>\n",
       "      <th>Quantity</th>\n",
       "      <th>UnitPrice</th>\n",
       "      <th>Totalsale</th>\n",
       "      <th>CustomerID</th>\n",
       "      <th>Country</th>\n",
       "    </tr>\n",
       "  </thead>\n",
       "  <tbody>\n",
       "    <tr>\n",
       "      <th>146126</th>\n",
       "      <td>C548972</td>\n",
       "      <td>05-04-2011</td>\n",
       "      <td>11:42:00 AM</td>\n",
       "      <td>21974</td>\n",
       "      <td>SET OF 36 PAISLEY FLOWER DOILIES</td>\n",
       "      <td>-12</td>\n",
       "      <td>1.45</td>\n",
       "      <td>-17.40</td>\n",
       "      <td>15674.0</td>\n",
       "      <td>United Kingdom</td>\n",
       "    </tr>\n",
       "    <tr>\n",
       "      <th>326853</th>\n",
       "      <td>C565597</td>\n",
       "      <td>05-09-2011</td>\n",
       "      <td>02:29:00 PM</td>\n",
       "      <td>22980</td>\n",
       "      <td>PANTRY SCRUBBING BRUSH</td>\n",
       "      <td>-1</td>\n",
       "      <td>1.65</td>\n",
       "      <td>-1.65</td>\n",
       "      <td>12709.0</td>\n",
       "      <td>Germany</td>\n",
       "    </tr>\n",
       "    <tr>\n",
       "      <th>43783</th>\n",
       "      <td>C540142</td>\n",
       "      <td>05-01-2011</td>\n",
       "      <td>10:50:00 AM</td>\n",
       "      <td>22960</td>\n",
       "      <td>JAM MAKING SET WITH JARS</td>\n",
       "      <td>-12</td>\n",
       "      <td>3.75</td>\n",
       "      <td>-45.00</td>\n",
       "      <td>12782.0</td>\n",
       "      <td>Portugal</td>\n",
       "    </tr>\n",
       "    <tr>\n",
       "      <th>365742</th>\n",
       "      <td>C568714</td>\n",
       "      <td>28-09-2011</td>\n",
       "      <td>04:04:00 PM</td>\n",
       "      <td>22775</td>\n",
       "      <td>PURPLE DRAWERKNOB ACRYLIC EDWARDIAN</td>\n",
       "      <td>-8</td>\n",
       "      <td>1.25</td>\n",
       "      <td>-10.00</td>\n",
       "      <td>16332.0</td>\n",
       "      <td>United Kingdom</td>\n",
       "    </tr>\n",
       "    <tr>\n",
       "      <th>282904</th>\n",
       "      <td>561668</td>\n",
       "      <td>28-07-2011</td>\n",
       "      <td>05:03:00 PM</td>\n",
       "      <td>44091A</td>\n",
       "      <td>NaN</td>\n",
       "      <td>-2</td>\n",
       "      <td>0.00</td>\n",
       "      <td>0.00</td>\n",
       "      <td>NaN</td>\n",
       "      <td>United Kingdom</td>\n",
       "    </tr>\n",
       "    <tr>\n",
       "      <th>361729</th>\n",
       "      <td>C568370</td>\n",
       "      <td>26-09-2011</td>\n",
       "      <td>04:43:00 PM</td>\n",
       "      <td>90199C</td>\n",
       "      <td>5 STRAND GLASS NECKLACE CRYSTAL</td>\n",
       "      <td>-1</td>\n",
       "      <td>6.35</td>\n",
       "      <td>-6.35</td>\n",
       "      <td>15154.0</td>\n",
       "      <td>United Kingdom</td>\n",
       "    </tr>\n",
       "    <tr>\n",
       "      <th>394049</th>\n",
       "      <td>C570867</td>\n",
       "      <td>12-10-2011</td>\n",
       "      <td>04:17:00 PM</td>\n",
       "      <td>21976</td>\n",
       "      <td>PACK OF 60 MUSHROOM CAKE CASES</td>\n",
       "      <td>-24</td>\n",
       "      <td>0.55</td>\n",
       "      <td>-13.20</td>\n",
       "      <td>12607.0</td>\n",
       "      <td>USA</td>\n",
       "    </tr>\n",
       "    <tr>\n",
       "      <th>148115</th>\n",
       "      <td>549179</td>\n",
       "      <td>06-04-2011</td>\n",
       "      <td>05:34:00 PM</td>\n",
       "      <td>84007</td>\n",
       "      <td>NaN</td>\n",
       "      <td>-3</td>\n",
       "      <td>0.00</td>\n",
       "      <td>0.00</td>\n",
       "      <td>NaN</td>\n",
       "      <td>United Kingdom</td>\n",
       "    </tr>\n",
       "    <tr>\n",
       "      <th>28561</th>\n",
       "      <td>C538642</td>\n",
       "      <td>13-12-2010</td>\n",
       "      <td>02:37:00 PM</td>\n",
       "      <td>21658</td>\n",
       "      <td>GLASS  BEURRE DISH</td>\n",
       "      <td>-1</td>\n",
       "      <td>3.95</td>\n",
       "      <td>-3.95</td>\n",
       "      <td>12476.0</td>\n",
       "      <td>Germany</td>\n",
       "    </tr>\n",
       "    <tr>\n",
       "      <th>44918</th>\n",
       "      <td>C540246</td>\n",
       "      <td>05-01-2011</td>\n",
       "      <td>03:43:00 PM</td>\n",
       "      <td>22201</td>\n",
       "      <td>FRYING PAN BLUE POLKADOT</td>\n",
       "      <td>-1</td>\n",
       "      <td>4.25</td>\n",
       "      <td>-4.25</td>\n",
       "      <td>13081.0</td>\n",
       "      <td>United Kingdom</td>\n",
       "    </tr>\n",
       "  </tbody>\n",
       "</table>\n",
       "</div>"
      ],
      "text/plain": [
       "       InvoiceNo InvoiceDate  InvoiceTime StockCode  \\\n",
       "146126   C548972  05-04-2011  11:42:00 AM     21974   \n",
       "326853   C565597  05-09-2011  02:29:00 PM     22980   \n",
       "43783    C540142  05-01-2011  10:50:00 AM     22960   \n",
       "365742   C568714  28-09-2011  04:04:00 PM     22775   \n",
       "282904    561668  28-07-2011  05:03:00 PM    44091A   \n",
       "361729   C568370  26-09-2011  04:43:00 PM    90199C   \n",
       "394049   C570867  12-10-2011  04:17:00 PM     21976   \n",
       "148115    549179  06-04-2011  05:34:00 PM     84007   \n",
       "28561    C538642  13-12-2010  02:37:00 PM     21658   \n",
       "44918    C540246  05-01-2011  03:43:00 PM     22201   \n",
       "\n",
       "                                Description  Quantity  UnitPrice  Totalsale  \\\n",
       "146126     SET OF 36 PAISLEY FLOWER DOILIES       -12       1.45     -17.40   \n",
       "326853               PANTRY SCRUBBING BRUSH        -1       1.65      -1.65   \n",
       "43783              JAM MAKING SET WITH JARS       -12       3.75     -45.00   \n",
       "365742  PURPLE DRAWERKNOB ACRYLIC EDWARDIAN        -8       1.25     -10.00   \n",
       "282904                                  NaN        -2       0.00       0.00   \n",
       "361729      5 STRAND GLASS NECKLACE CRYSTAL        -1       6.35      -6.35   \n",
       "394049       PACK OF 60 MUSHROOM CAKE CASES       -24       0.55     -13.20   \n",
       "148115                                  NaN        -3       0.00       0.00   \n",
       "28561                    GLASS  BEURRE DISH        -1       3.95      -3.95   \n",
       "44918              FRYING PAN BLUE POLKADOT        -1       4.25      -4.25   \n",
       "\n",
       "        CustomerID         Country  \n",
       "146126     15674.0  United Kingdom  \n",
       "326853     12709.0         Germany  \n",
       "43783      12782.0        Portugal  \n",
       "365742     16332.0  United Kingdom  \n",
       "282904         NaN  United Kingdom  \n",
       "361729     15154.0  United Kingdom  \n",
       "394049     12607.0             USA  \n",
       "148115         NaN  United Kingdom  \n",
       "28561      12476.0         Germany  \n",
       "44918      13081.0  United Kingdom  "
      ]
     },
     "execution_count": 38,
     "metadata": {},
     "output_type": "execute_result"
    }
   ],
   "source": [
    "neg_values_df.sample(10)"
   ]
  },
  {
   "cell_type": "code",
   "execution_count": 39,
   "metadata": {},
   "outputs": [
    {
     "data": {
      "text/html": [
       "<div>\n",
       "<style scoped>\n",
       "    .dataframe tbody tr th:only-of-type {\n",
       "        vertical-align: middle;\n",
       "    }\n",
       "\n",
       "    .dataframe tbody tr th {\n",
       "        vertical-align: top;\n",
       "    }\n",
       "\n",
       "    .dataframe thead th {\n",
       "        text-align: right;\n",
       "    }\n",
       "</style>\n",
       "<table border=\"1\" class=\"dataframe\">\n",
       "  <thead>\n",
       "    <tr style=\"text-align: right;\">\n",
       "      <th></th>\n",
       "      <th>InvoiceNo</th>\n",
       "      <th>InvoiceDate</th>\n",
       "      <th>InvoiceTime</th>\n",
       "      <th>StockCode</th>\n",
       "      <th>Description</th>\n",
       "      <th>Quantity</th>\n",
       "      <th>UnitPrice</th>\n",
       "      <th>Totalsale</th>\n",
       "      <th>CustomerID</th>\n",
       "      <th>Country</th>\n",
       "    </tr>\n",
       "  </thead>\n",
       "  <tbody>\n",
       "    <tr>\n",
       "      <th>299983</th>\n",
       "      <td>A563186</td>\n",
       "      <td>12-08-2011</td>\n",
       "      <td>02:51:00 PM</td>\n",
       "      <td>B</td>\n",
       "      <td>Adjust bad debt</td>\n",
       "      <td>1</td>\n",
       "      <td>-11062.06</td>\n",
       "      <td>-11062.06</td>\n",
       "      <td>NaN</td>\n",
       "      <td>United Kingdom</td>\n",
       "    </tr>\n",
       "    <tr>\n",
       "      <th>299984</th>\n",
       "      <td>A563187</td>\n",
       "      <td>12-08-2011</td>\n",
       "      <td>02:52:00 PM</td>\n",
       "      <td>B</td>\n",
       "      <td>Adjust bad debt</td>\n",
       "      <td>1</td>\n",
       "      <td>-11062.06</td>\n",
       "      <td>-11062.06</td>\n",
       "      <td>NaN</td>\n",
       "      <td>United Kingdom</td>\n",
       "    </tr>\n",
       "  </tbody>\n",
       "</table>\n",
       "</div>"
      ],
      "text/plain": [
       "       InvoiceNo InvoiceDate  InvoiceTime StockCode      Description  \\\n",
       "299983   A563186  12-08-2011  02:51:00 PM         B  Adjust bad debt   \n",
       "299984   A563187  12-08-2011  02:52:00 PM         B  Adjust bad debt   \n",
       "\n",
       "        Quantity  UnitPrice  Totalsale  CustomerID         Country  \n",
       "299983         1  -11062.06  -11062.06         NaN  United Kingdom  \n",
       "299984         1  -11062.06  -11062.06         NaN  United Kingdom  "
      ]
     },
     "execution_count": 39,
     "metadata": {},
     "output_type": "execute_result"
    }
   ],
   "source": [
    "neg_values_df[(neg_values_df['UnitPrice'] < 0)]"
   ]
  },
  {
   "cell_type": "code",
   "execution_count": 40,
   "metadata": {},
   "outputs": [
    {
     "data": {
      "text/plain": [
       "InvoiceNo           0\n",
       "InvoiceDate         0\n",
       "InvoiceTime         0\n",
       "StockCode           0\n",
       "Description       592\n",
       "Quantity            0\n",
       "UnitPrice           0\n",
       "Totalsale           0\n",
       "CustomerID     133359\n",
       "Country             0\n",
       "dtype: int64"
      ]
     },
     "execution_count": 40,
     "metadata": {},
     "output_type": "execute_result"
    }
   ],
   "source": [
    "no_neg_values_df.isnull().sum()"
   ]
  },
  {
   "cell_type": "code",
   "execution_count": 41,
   "metadata": {},
   "outputs": [
    {
     "data": {
      "text/plain": [
       "InvoiceNo         0\n",
       "InvoiceDate       0\n",
       "InvoiceTime       0\n",
       "StockCode         0\n",
       "Description     862\n",
       "Quantity          0\n",
       "UnitPrice         0\n",
       "Totalsale         0\n",
       "CustomerID     1721\n",
       "Country           0\n",
       "dtype: int64"
      ]
     },
     "execution_count": 41,
     "metadata": {},
     "output_type": "execute_result"
    }
   ],
   "source": [
    "neg_values_df.isnull().sum()"
   ]
  },
  {
   "cell_type": "code",
   "execution_count": 42,
   "metadata": {},
   "outputs": [
    {
     "name": "stdout",
     "output_type": "stream",
     "text": [
      "no negative values data shape: (531283, 10)\n",
      "negative values data shape: (10626, 10)\n"
     ]
    }
   ],
   "source": [
    "print(f\"no negative values data shape: {no_neg_values_df.shape}\")\n",
    "print(f\"negative values data shape: {neg_values_df.shape}\")"
   ]
  },
  {
   "cell_type": "markdown",
   "metadata": {},
   "source": [
    "It seems like the columns `Quantity`, `UnitPrice` and `Totalsale` have negative for different motives related to the business, so for now we are going to focus exclusively in the data that has no negatives in it. We can see that most of the null values are from this part of the data, which isn't surprisely seen that most of the data are non negative."
   ]
  },
  {
   "cell_type": "markdown",
   "metadata": {},
   "source": [
    "---\n",
    "\n",
    "#### Clean the data\n",
    "\n",
    "- Drop duplicates\n",
    "- Drop all the values in `Description`\n",
    "- `CustomerID` has almost 140k missing values, almost 25% of the data\n",
    "- `Quantity`, `UnitPrice` and `Totalsale` having negatives can be easily solve using absolute numbers"
   ]
  },
  {
   "cell_type": "code",
   "execution_count": 43,
   "metadata": {},
   "outputs": [],
   "source": [
    "# make a copy of the non negative df\n",
    "retail_df2 = no_neg_values_df.copy()"
   ]
  },
  {
   "cell_type": "code",
   "execution_count": 44,
   "metadata": {},
   "outputs": [],
   "source": [
    "# dropping all duplicates\n",
    "retail_df2.drop_duplicates(inplace=True)\n",
    "\n",
    "# resetting the index\n",
    "retail_df2.reset_index(drop=True, inplace=True)"
   ]
  },
  {
   "cell_type": "code",
   "execution_count": 45,
   "metadata": {},
   "outputs": [],
   "source": [
    "# dropping missing values\n",
    "retail_df2.dropna(subset=['Description'], inplace=True)\n",
    "\n",
    "# making all items lower\n",
    "retail_df2['Description'] = retail_df2['Description'].apply(str.lower)\n",
    "\n",
    "# remove leading and trailing white spaces, and removing \".\"\n",
    "retail_df2['Description'] = retail_df2['Description'].apply(lambda x: x.strip().replace(\".\", \"\"))"
   ]
  },
  {
   "cell_type": "code",
   "execution_count": 46,
   "metadata": {},
   "outputs": [],
   "source": [
    "# replace the missing values to 0\n",
    "retail_df2['CustomerID'] = retail_df2['CustomerID'].fillna(0)\n",
    "\n",
    "# another solution is to drop the rows with missing CustomerID, however in this case it's less recommended for the kind of analysis that I will be doing since nearly 140k rows would be lost, resulting in a significant loss of information.\n",
    "# retail_df2.dropna(subset=['CustomerID'], inplace=True)"
   ]
  },
  {
   "cell_type": "code",
   "execution_count": 47,
   "metadata": {},
   "outputs": [
    {
     "data": {
      "text/plain": [
       "InvoiceNo      0\n",
       "InvoiceDate    0\n",
       "InvoiceTime    0\n",
       "StockCode      0\n",
       "Description    0\n",
       "Quantity       0\n",
       "UnitPrice      0\n",
       "Totalsale      0\n",
       "CustomerID     0\n",
       "Country        0\n",
       "dtype: int64"
      ]
     },
     "execution_count": 47,
     "metadata": {},
     "output_type": "execute_result"
    }
   ],
   "source": [
    "retail_df2.isnull().sum()"
   ]
  },
  {
   "cell_type": "markdown",
   "metadata": {},
   "source": [
    "#### Simple Feature Engineering"
   ]
  },
  {
   "cell_type": "code",
   "execution_count": 48,
   "metadata": {},
   "outputs": [],
   "source": [
    "# making sure all the invoice dates are formatted well\n",
    "retail_df2['InvoiceDate'] = pd.to_datetime(retail_df2['InvoiceDate'], format=\"%d-%m-%Y\")"
   ]
  },
  {
   "cell_type": "code",
   "execution_count": 49,
   "metadata": {},
   "outputs": [],
   "source": [
    "# extracting Year and Month columns\n",
    "retail_df2['Year'] = pd.DatetimeIndex(retail_df2['InvoiceDate']).year\n",
    "retail_df2['Month'] = pd.DatetimeIndex(retail_df2['InvoiceDate']).month"
   ]
  },
  {
   "cell_type": "code",
   "execution_count": 50,
   "metadata": {},
   "outputs": [],
   "source": [
    "# making seasonal column\n",
    "month_to_season = {\n",
    "\t1: \"Winter\",\n",
    "\t2: \"Winter\",\n",
    "\t3: \"Spring\",\n",
    "\t4: \"Spring\",\n",
    "\t5: \"Spring\",\n",
    "\t6: \"Summer\",\n",
    "\t7: \"Summer\",\n",
    "\t8: \"Summer\",\n",
    "\t9: \"Fall\",\n",
    "\t10: \"Fall\",\n",
    "\t11: \"Fall\",\n",
    "\t12: \"Winter\"\n",
    "}\n",
    "\n",
    "retail_df2['Season'] = retail_df2['Month'].map(month_to_season)"
   ]
  },
  {
   "cell_type": "code",
   "execution_count": 51,
   "metadata": {},
   "outputs": [
    {
     "data": {
      "text/html": [
       "<div>\n",
       "<style scoped>\n",
       "    .dataframe tbody tr th:only-of-type {\n",
       "        vertical-align: middle;\n",
       "    }\n",
       "\n",
       "    .dataframe tbody tr th {\n",
       "        vertical-align: top;\n",
       "    }\n",
       "\n",
       "    .dataframe thead th {\n",
       "        text-align: right;\n",
       "    }\n",
       "</style>\n",
       "<table border=\"1\" class=\"dataframe\">\n",
       "  <thead>\n",
       "    <tr style=\"text-align: right;\">\n",
       "      <th></th>\n",
       "      <th>InvoiceDate</th>\n",
       "      <th>Year</th>\n",
       "      <th>Month</th>\n",
       "      <th>Season</th>\n",
       "    </tr>\n",
       "  </thead>\n",
       "  <tbody>\n",
       "    <tr>\n",
       "      <th>328800</th>\n",
       "      <td>2011-09-13</td>\n",
       "      <td>2011</td>\n",
       "      <td>9</td>\n",
       "      <td>Fall</td>\n",
       "    </tr>\n",
       "    <tr>\n",
       "      <th>434204</th>\n",
       "      <td>2011-11-08</td>\n",
       "      <td>2011</td>\n",
       "      <td>11</td>\n",
       "      <td>Fall</td>\n",
       "    </tr>\n",
       "    <tr>\n",
       "      <th>424805</th>\n",
       "      <td>2011-11-03</td>\n",
       "      <td>2011</td>\n",
       "      <td>11</td>\n",
       "      <td>Fall</td>\n",
       "    </tr>\n",
       "    <tr>\n",
       "      <th>516561</th>\n",
       "      <td>2011-12-06</td>\n",
       "      <td>2011</td>\n",
       "      <td>12</td>\n",
       "      <td>Winter</td>\n",
       "    </tr>\n",
       "    <tr>\n",
       "      <th>47947</th>\n",
       "      <td>2011-01-09</td>\n",
       "      <td>2011</td>\n",
       "      <td>1</td>\n",
       "      <td>Winter</td>\n",
       "    </tr>\n",
       "  </tbody>\n",
       "</table>\n",
       "</div>"
      ],
      "text/plain": [
       "       InvoiceDate  Year  Month  Season\n",
       "328800  2011-09-13  2011      9    Fall\n",
       "434204  2011-11-08  2011     11    Fall\n",
       "424805  2011-11-03  2011     11    Fall\n",
       "516561  2011-12-06  2011     12  Winter\n",
       "47947   2011-01-09  2011      1  Winter"
      ]
     },
     "execution_count": 51,
     "metadata": {},
     "output_type": "execute_result"
    }
   ],
   "source": [
    "retail_df2[['InvoiceDate', 'Year', 'Month', 'Season']].sample(5)"
   ]
  },
  {
   "cell_type": "code",
   "execution_count": 52,
   "metadata": {},
   "outputs": [],
   "source": [
    "def extract_am_pm(time):\n",
    "\t\"\"\"\n",
    "\tTakes the time as a string and extracts if it's AM or PM\n",
    "\n",
    "\tArgs:\n",
    "\t\ttime (str): time as a string\n",
    "\treturn:\n",
    "\t\tAM or PM\n",
    "\t\"\"\"\n",
    "\t# Getting the part after the \" \" of the string time\n",
    "\tam_pm = time.split()[1]\n",
    "\n",
    "\treturn am_pm"
   ]
  },
  {
   "cell_type": "code",
   "execution_count": 53,
   "metadata": {},
   "outputs": [],
   "source": [
    "retail_df2['AM_or_PM'] = retail_df2['InvoiceTime'].apply(extract_am_pm)"
   ]
  },
  {
   "cell_type": "code",
   "execution_count": 54,
   "metadata": {},
   "outputs": [
    {
     "data": {
      "text/html": [
       "<div>\n",
       "<style scoped>\n",
       "    .dataframe tbody tr th:only-of-type {\n",
       "        vertical-align: middle;\n",
       "    }\n",
       "\n",
       "    .dataframe tbody tr th {\n",
       "        vertical-align: top;\n",
       "    }\n",
       "\n",
       "    .dataframe thead th {\n",
       "        text-align: right;\n",
       "    }\n",
       "</style>\n",
       "<table border=\"1\" class=\"dataframe\">\n",
       "  <thead>\n",
       "    <tr style=\"text-align: right;\">\n",
       "      <th></th>\n",
       "      <th>InvoiceTime</th>\n",
       "      <th>AM_or_PM</th>\n",
       "    </tr>\n",
       "  </thead>\n",
       "  <tbody>\n",
       "    <tr>\n",
       "      <th>450254</th>\n",
       "      <td>04:16:00 PM</td>\n",
       "      <td>PM</td>\n",
       "    </tr>\n",
       "    <tr>\n",
       "      <th>457634</th>\n",
       "      <td>10:01:00 AM</td>\n",
       "      <td>AM</td>\n",
       "    </tr>\n",
       "    <tr>\n",
       "      <th>525744</th>\n",
       "      <td>11:20:00 AM</td>\n",
       "      <td>AM</td>\n",
       "    </tr>\n",
       "    <tr>\n",
       "      <th>257786</th>\n",
       "      <td>04:27:00 PM</td>\n",
       "      <td>PM</td>\n",
       "    </tr>\n",
       "    <tr>\n",
       "      <th>56756</th>\n",
       "      <td>11:08:00 AM</td>\n",
       "      <td>AM</td>\n",
       "    </tr>\n",
       "  </tbody>\n",
       "</table>\n",
       "</div>"
      ],
      "text/plain": [
       "        InvoiceTime AM_or_PM\n",
       "450254  04:16:00 PM       PM\n",
       "457634  10:01:00 AM       AM\n",
       "525744  11:20:00 AM       AM\n",
       "257786  04:27:00 PM       PM\n",
       "56756   11:08:00 AM       AM"
      ]
     },
     "execution_count": 54,
     "metadata": {},
     "output_type": "execute_result"
    }
   ],
   "source": [
    "retail_df2[['InvoiceTime', 'AM_or_PM']].sample(5)"
   ]
  },
  {
   "cell_type": "code",
   "execution_count": 55,
   "metadata": {},
   "outputs": [
    {
     "name": "stdout",
     "output_type": "stream",
     "text": [
      "<class 'pandas.core.frame.DataFrame'>\n",
      "Index: 525460 entries, 0 to 526051\n",
      "Data columns (total 14 columns):\n",
      " #   Column       Non-Null Count   Dtype         \n",
      "---  ------       --------------   -----         \n",
      " 0   InvoiceNo    525460 non-null  object        \n",
      " 1   InvoiceDate  525460 non-null  datetime64[ns]\n",
      " 2   InvoiceTime  525460 non-null  object        \n",
      " 3   StockCode    525460 non-null  object        \n",
      " 4   Description  525460 non-null  object        \n",
      " 5   Quantity     525460 non-null  int64         \n",
      " 6   UnitPrice    525460 non-null  float64       \n",
      " 7   Totalsale    525460 non-null  float64       \n",
      " 8   CustomerID   525460 non-null  float64       \n",
      " 9   Country      525460 non-null  object        \n",
      " 10  Year         525460 non-null  int32         \n",
      " 11  Month        525460 non-null  int32         \n",
      " 12  Season       525460 non-null  object        \n",
      " 13  AM_or_PM     525460 non-null  object        \n",
      "dtypes: datetime64[ns](1), float64(3), int32(2), int64(1), object(7)\n",
      "memory usage: 56.1+ MB\n"
     ]
    }
   ],
   "source": [
    "retail_df2.info()"
   ]
  },
  {
   "cell_type": "code",
   "execution_count": 56,
   "metadata": {},
   "outputs": [],
   "source": [
    "# save the new transformed data into a csv\n",
    "retail_df2.to_csv('db/Online-Retail-Transformed.csv', index=False)"
   ]
  },
  {
   "cell_type": "markdown",
   "metadata": {},
   "source": [
    "---\n",
    "### Next part of the project\n",
    "Once finished with the preprocessing of the data with can start a EDA\n",
    "\n",
    "[2. Exploratory Data Analysis Univariate](2.online_retail_univariate.ipynb)"
   ]
  }
 ],
 "metadata": {
  "kernelspec": {
   "display_name": "Python 3 (ipykernel)",
   "language": "python",
   "name": "python3"
  },
  "language_info": {
   "codemirror_mode": {
    "name": "ipython",
    "version": 3
   },
   "file_extension": ".py",
   "mimetype": "text/x-python",
   "name": "python",
   "nbconvert_exporter": "python",
   "pygments_lexer": "ipython3",
   "version": "3.11.11"
  }
 },
 "nbformat": 4,
 "nbformat_minor": 2
}
