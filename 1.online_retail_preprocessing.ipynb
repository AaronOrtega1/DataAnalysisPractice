{
 "cells": [
  {
   "cell_type": "markdown",
   "metadata": {},
   "source": [
    "## <center> Online Retail Preprocessing </center>\n",
    "---\n",
    "\n",
    "**Name**: Francisco Aarón Ortega Anguiano\n",
    "\n",
    "This practice exercise involves preprocessing and exploratory data analysis (EDA) on a dataset sourced from **Kaggle**.\n",
    "\n",
    "### Dataset columns:\n",
    "- `InvoiceNo`\n",
    "- `InvoiceDate`\n",
    "- `InvoiceTime`\n",
    "- `StockCode`\n",
    "- `Description`\n",
    "- `Quantity`\n",
    "- `UnitPrice`\n",
    "- `Totalsale`\n",
    "- `CustomerID`\n",
    "- `Country`"
   ]
  },
  {
   "cell_type": "markdown",
   "metadata": {},
   "source": [
    "#### Import important libraries and read the dataset"
   ]
  },
  {
   "cell_type": "code",
   "execution_count": 1,
   "metadata": {},
   "outputs": [
    {
     "data": {
      "text/html": [
       "<div>\n",
       "<style scoped>\n",
       "    .dataframe tbody tr th:only-of-type {\n",
       "        vertical-align: middle;\n",
       "    }\n",
       "\n",
       "    .dataframe tbody tr th {\n",
       "        vertical-align: top;\n",
       "    }\n",
       "\n",
       "    .dataframe thead th {\n",
       "        text-align: right;\n",
       "    }\n",
       "</style>\n",
       "<table border=\"1\" class=\"dataframe\">\n",
       "  <thead>\n",
       "    <tr style=\"text-align: right;\">\n",
       "      <th></th>\n",
       "      <th>InvoiceNo</th>\n",
       "      <th>InvoiceDate</th>\n",
       "      <th>InvoiceTime</th>\n",
       "      <th>StockCode</th>\n",
       "      <th>Description</th>\n",
       "      <th>Quantity</th>\n",
       "      <th>UnitPrice</th>\n",
       "      <th>Totalsale</th>\n",
       "      <th>CustomerID</th>\n",
       "      <th>Country</th>\n",
       "    </tr>\n",
       "  </thead>\n",
       "  <tbody>\n",
       "    <tr>\n",
       "      <th>0</th>\n",
       "      <td>536365</td>\n",
       "      <td>01-12-2010</td>\n",
       "      <td>08:26:00 AM</td>\n",
       "      <td>85123A</td>\n",
       "      <td>WHITE HANGING HEART T-LIGHT HOLDER</td>\n",
       "      <td>6</td>\n",
       "      <td>2.55</td>\n",
       "      <td>15.30</td>\n",
       "      <td>17850.0</td>\n",
       "      <td>United Kingdom</td>\n",
       "    </tr>\n",
       "    <tr>\n",
       "      <th>1</th>\n",
       "      <td>536365</td>\n",
       "      <td>01-12-2010</td>\n",
       "      <td>08:26:00 AM</td>\n",
       "      <td>71053</td>\n",
       "      <td>WHITE METAL LANTERN</td>\n",
       "      <td>6</td>\n",
       "      <td>3.39</td>\n",
       "      <td>20.34</td>\n",
       "      <td>17850.0</td>\n",
       "      <td>United Kingdom</td>\n",
       "    </tr>\n",
       "    <tr>\n",
       "      <th>2</th>\n",
       "      <td>536365</td>\n",
       "      <td>01-12-2010</td>\n",
       "      <td>08:26:00 AM</td>\n",
       "      <td>84406B</td>\n",
       "      <td>CREAM CUPID HEARTS COAT HANGER</td>\n",
       "      <td>8</td>\n",
       "      <td>2.75</td>\n",
       "      <td>22.00</td>\n",
       "      <td>17850.0</td>\n",
       "      <td>United Kingdom</td>\n",
       "    </tr>\n",
       "    <tr>\n",
       "      <th>3</th>\n",
       "      <td>536365</td>\n",
       "      <td>01-12-2010</td>\n",
       "      <td>08:26:00 AM</td>\n",
       "      <td>84029G</td>\n",
       "      <td>KNITTED UNION FLAG HOT WATER BOTTLE</td>\n",
       "      <td>6</td>\n",
       "      <td>3.39</td>\n",
       "      <td>20.34</td>\n",
       "      <td>17850.0</td>\n",
       "      <td>United Kingdom</td>\n",
       "    </tr>\n",
       "    <tr>\n",
       "      <th>4</th>\n",
       "      <td>536365</td>\n",
       "      <td>01-12-2010</td>\n",
       "      <td>08:26:00 AM</td>\n",
       "      <td>84029E</td>\n",
       "      <td>RED WOOLLY HOTTIE WHITE HEART.</td>\n",
       "      <td>6</td>\n",
       "      <td>3.39</td>\n",
       "      <td>20.34</td>\n",
       "      <td>17850.0</td>\n",
       "      <td>United Kingdom</td>\n",
       "    </tr>\n",
       "  </tbody>\n",
       "</table>\n",
       "</div>"
      ],
      "text/plain": [
       "  InvoiceNo InvoiceDate  InvoiceTime StockCode  \\\n",
       "0    536365  01-12-2010  08:26:00 AM    85123A   \n",
       "1    536365  01-12-2010  08:26:00 AM     71053   \n",
       "2    536365  01-12-2010  08:26:00 AM    84406B   \n",
       "3    536365  01-12-2010  08:26:00 AM    84029G   \n",
       "4    536365  01-12-2010  08:26:00 AM    84029E   \n",
       "\n",
       "                           Description  Quantity  UnitPrice  Totalsale  \\\n",
       "0   WHITE HANGING HEART T-LIGHT HOLDER         6       2.55      15.30   \n",
       "1                  WHITE METAL LANTERN         6       3.39      20.34   \n",
       "2       CREAM CUPID HEARTS COAT HANGER         8       2.75      22.00   \n",
       "3  KNITTED UNION FLAG HOT WATER BOTTLE         6       3.39      20.34   \n",
       "4       RED WOOLLY HOTTIE WHITE HEART.         6       3.39      20.34   \n",
       "\n",
       "   CustomerID         Country  \n",
       "0     17850.0  United Kingdom  \n",
       "1     17850.0  United Kingdom  \n",
       "2     17850.0  United Kingdom  \n",
       "3     17850.0  United Kingdom  \n",
       "4     17850.0  United Kingdom  "
      ]
     },
     "execution_count": 1,
     "metadata": {},
     "output_type": "execute_result"
    }
   ],
   "source": [
    "import pandas as pd\n",
    "\n",
    "retail_df = pd.read_csv('db/Online-Retail.csv')\n",
    "\n",
    "retail_df.head()"
   ]
  },
  {
   "cell_type": "code",
   "execution_count": 2,
   "metadata": {},
   "outputs": [
    {
     "name": "stdout",
     "output_type": "stream",
     "text": [
      "data shape: (541909, 10)\n"
     ]
    }
   ],
   "source": [
    "print(f\"data shape: {retail_df.shape}\")"
   ]
  },
  {
   "cell_type": "markdown",
   "metadata": {},
   "source": [
    "#### Check for duplicates\n",
    "Our data has duplicates that we are going to drop"
   ]
  },
  {
   "cell_type": "code",
   "execution_count": 3,
   "metadata": {},
   "outputs": [
    {
     "name": "stdout",
     "output_type": "stream",
     "text": [
      "Our data has: 5268 duplicates\n"
     ]
    }
   ],
   "source": [
    "print(f\"Our data has: {retail_df.duplicated().sum()} duplicates\")"
   ]
  },
  {
   "cell_type": "code",
   "execution_count": 4,
   "metadata": {},
   "outputs": [
    {
     "name": "stdout",
     "output_type": "stream",
     "text": [
      "<class 'pandas.core.frame.DataFrame'>\n",
      "RangeIndex: 541909 entries, 0 to 541908\n",
      "Data columns (total 10 columns):\n",
      " #   Column       Non-Null Count   Dtype  \n",
      "---  ------       --------------   -----  \n",
      " 0   InvoiceNo    541909 non-null  object \n",
      " 1   InvoiceDate  541909 non-null  object \n",
      " 2   InvoiceTime  541909 non-null  object \n",
      " 3   StockCode    541909 non-null  object \n",
      " 4   Description  540455 non-null  object \n",
      " 5   Quantity     541909 non-null  int64  \n",
      " 6   UnitPrice    541909 non-null  float64\n",
      " 7   Totalsale    541909 non-null  float64\n",
      " 8   CustomerID   406829 non-null  float64\n",
      " 9   Country      541909 non-null  object \n",
      "dtypes: float64(3), int64(1), object(6)\n",
      "memory usage: 41.3+ MB\n"
     ]
    }
   ],
   "source": [
    "retail_df.info()"
   ]
  },
  {
   "cell_type": "markdown",
   "metadata": {},
   "source": [
    "#### Check the count of null values per column in the DataFrame\n",
    "We can drop the missing values in the description, but it has a lot of nulls in CustomerID which isn't very good"
   ]
  },
  {
   "cell_type": "code",
   "execution_count": 5,
   "metadata": {},
   "outputs": [
    {
     "data": {
      "text/plain": [
       "InvoiceNo           0\n",
       "InvoiceDate         0\n",
       "InvoiceTime         0\n",
       "StockCode           0\n",
       "Description      1454\n",
       "Quantity            0\n",
       "UnitPrice           0\n",
       "Totalsale           0\n",
       "CustomerID     135080\n",
       "Country             0\n",
       "dtype: int64"
      ]
     },
     "execution_count": 5,
     "metadata": {},
     "output_type": "execute_result"
    }
   ],
   "source": [
    "retail_df.isnull().sum()"
   ]
  },
  {
   "cell_type": "markdown",
   "metadata": {},
   "source": [
    "#### Describe to have a fast overview\n",
    "We can see that `Quantity`, `UnitPrice` and `Totalsale` have negative values, we are going to explore why."
   ]
  },
  {
   "cell_type": "code",
   "execution_count": 6,
   "metadata": {},
   "outputs": [
    {
     "data": {
      "text/html": [
       "<div>\n",
       "<style scoped>\n",
       "    .dataframe tbody tr th:only-of-type {\n",
       "        vertical-align: middle;\n",
       "    }\n",
       "\n",
       "    .dataframe tbody tr th {\n",
       "        vertical-align: top;\n",
       "    }\n",
       "\n",
       "    .dataframe thead th {\n",
       "        text-align: right;\n",
       "    }\n",
       "</style>\n",
       "<table border=\"1\" class=\"dataframe\">\n",
       "  <thead>\n",
       "    <tr style=\"text-align: right;\">\n",
       "      <th></th>\n",
       "      <th>Quantity</th>\n",
       "      <th>UnitPrice</th>\n",
       "      <th>Totalsale</th>\n",
       "      <th>CustomerID</th>\n",
       "    </tr>\n",
       "  </thead>\n",
       "  <tbody>\n",
       "    <tr>\n",
       "      <th>count</th>\n",
       "      <td>541909.000000</td>\n",
       "      <td>541909.000000</td>\n",
       "      <td>541909.000000</td>\n",
       "      <td>406829.000000</td>\n",
       "    </tr>\n",
       "    <tr>\n",
       "      <th>mean</th>\n",
       "      <td>9.552250</td>\n",
       "      <td>4.611114</td>\n",
       "      <td>17.987795</td>\n",
       "      <td>15287.690570</td>\n",
       "    </tr>\n",
       "    <tr>\n",
       "      <th>std</th>\n",
       "      <td>218.081158</td>\n",
       "      <td>96.759853</td>\n",
       "      <td>378.810824</td>\n",
       "      <td>1713.600303</td>\n",
       "    </tr>\n",
       "    <tr>\n",
       "      <th>min</th>\n",
       "      <td>-80995.000000</td>\n",
       "      <td>-11062.060000</td>\n",
       "      <td>-168469.600000</td>\n",
       "      <td>12346.000000</td>\n",
       "    </tr>\n",
       "    <tr>\n",
       "      <th>25%</th>\n",
       "      <td>1.000000</td>\n",
       "      <td>1.250000</td>\n",
       "      <td>3.400000</td>\n",
       "      <td>13953.000000</td>\n",
       "    </tr>\n",
       "    <tr>\n",
       "      <th>50%</th>\n",
       "      <td>3.000000</td>\n",
       "      <td>2.080000</td>\n",
       "      <td>9.750000</td>\n",
       "      <td>15152.000000</td>\n",
       "    </tr>\n",
       "    <tr>\n",
       "      <th>75%</th>\n",
       "      <td>10.000000</td>\n",
       "      <td>4.130000</td>\n",
       "      <td>17.400000</td>\n",
       "      <td>16791.000000</td>\n",
       "    </tr>\n",
       "    <tr>\n",
       "      <th>max</th>\n",
       "      <td>80995.000000</td>\n",
       "      <td>38970.000000</td>\n",
       "      <td>168469.600000</td>\n",
       "      <td>18287.000000</td>\n",
       "    </tr>\n",
       "  </tbody>\n",
       "</table>\n",
       "</div>"
      ],
      "text/plain": [
       "            Quantity      UnitPrice      Totalsale     CustomerID\n",
       "count  541909.000000  541909.000000  541909.000000  406829.000000\n",
       "mean        9.552250       4.611114      17.987795   15287.690570\n",
       "std       218.081158      96.759853     378.810824    1713.600303\n",
       "min    -80995.000000  -11062.060000 -168469.600000   12346.000000\n",
       "25%         1.000000       1.250000       3.400000   13953.000000\n",
       "50%         3.000000       2.080000       9.750000   15152.000000\n",
       "75%        10.000000       4.130000      17.400000   16791.000000\n",
       "max     80995.000000   38970.000000  168469.600000   18287.000000"
      ]
     },
     "execution_count": 6,
     "metadata": {},
     "output_type": "execute_result"
    }
   ],
   "source": [
    "retail_df.describe()"
   ]
  },
  {
   "cell_type": "markdown",
   "metadata": {},
   "source": [
    "I'm going to start by dividing the data into two different dataframes one with the non negative values and the other containing them, to see if the values should be negative or are a mistake that needs to be fixed."
   ]
  },
  {
   "cell_type": "code",
   "execution_count": 7,
   "metadata": {},
   "outputs": [
    {
     "data": {
      "text/html": [
       "<div>\n",
       "<style scoped>\n",
       "    .dataframe tbody tr th:only-of-type {\n",
       "        vertical-align: middle;\n",
       "    }\n",
       "\n",
       "    .dataframe tbody tr th {\n",
       "        vertical-align: top;\n",
       "    }\n",
       "\n",
       "    .dataframe thead th {\n",
       "        text-align: right;\n",
       "    }\n",
       "</style>\n",
       "<table border=\"1\" class=\"dataframe\">\n",
       "  <thead>\n",
       "    <tr style=\"text-align: right;\">\n",
       "      <th></th>\n",
       "      <th>Quantity</th>\n",
       "      <th>UnitPrice</th>\n",
       "      <th>Totalsale</th>\n",
       "      <th>CustomerID</th>\n",
       "    </tr>\n",
       "  </thead>\n",
       "  <tbody>\n",
       "    <tr>\n",
       "      <th>count</th>\n",
       "      <td>531283.000000</td>\n",
       "      <td>531283.000000</td>\n",
       "      <td>531283.000000</td>\n",
       "      <td>397924.000000</td>\n",
       "    </tr>\n",
       "    <tr>\n",
       "      <th>mean</th>\n",
       "      <td>10.655299</td>\n",
       "      <td>3.898954</td>\n",
       "      <td>20.077218</td>\n",
       "      <td>15294.315171</td>\n",
       "    </tr>\n",
       "    <tr>\n",
       "      <th>std</th>\n",
       "      <td>156.830617</td>\n",
       "      <td>35.876279</td>\n",
       "      <td>270.058254</td>\n",
       "      <td>1713.169877</td>\n",
       "    </tr>\n",
       "    <tr>\n",
       "      <th>min</th>\n",
       "      <td>1.000000</td>\n",
       "      <td>0.000000</td>\n",
       "      <td>0.000000</td>\n",
       "      <td>12346.000000</td>\n",
       "    </tr>\n",
       "    <tr>\n",
       "      <th>25%</th>\n",
       "      <td>1.000000</td>\n",
       "      <td>1.250000</td>\n",
       "      <td>3.750000</td>\n",
       "      <td>13969.000000</td>\n",
       "    </tr>\n",
       "    <tr>\n",
       "      <th>50%</th>\n",
       "      <td>3.000000</td>\n",
       "      <td>2.080000</td>\n",
       "      <td>9.900000</td>\n",
       "      <td>15159.000000</td>\n",
       "    </tr>\n",
       "    <tr>\n",
       "      <th>75%</th>\n",
       "      <td>10.000000</td>\n",
       "      <td>4.130000</td>\n",
       "      <td>17.700000</td>\n",
       "      <td>16795.000000</td>\n",
       "    </tr>\n",
       "    <tr>\n",
       "      <th>max</th>\n",
       "      <td>80995.000000</td>\n",
       "      <td>13541.330000</td>\n",
       "      <td>168469.600000</td>\n",
       "      <td>18287.000000</td>\n",
       "    </tr>\n",
       "  </tbody>\n",
       "</table>\n",
       "</div>"
      ],
      "text/plain": [
       "            Quantity      UnitPrice      Totalsale     CustomerID\n",
       "count  531283.000000  531283.000000  531283.000000  397924.000000\n",
       "mean       10.655299       3.898954      20.077218   15294.315171\n",
       "std       156.830617      35.876279     270.058254    1713.169877\n",
       "min         1.000000       0.000000       0.000000   12346.000000\n",
       "25%         1.000000       1.250000       3.750000   13969.000000\n",
       "50%         3.000000       2.080000       9.900000   15159.000000\n",
       "75%        10.000000       4.130000      17.700000   16795.000000\n",
       "max     80995.000000   13541.330000  168469.600000   18287.000000"
      ]
     },
     "execution_count": 7,
     "metadata": {},
     "output_type": "execute_result"
    }
   ],
   "source": [
    "no_neg_values_df = retail_df[\n",
    "\t(retail_df['Quantity'] >= 0) &\n",
    "\t(retail_df['UnitPrice'] >= 0) &\n",
    "\t(retail_df['Totalsale'] >= 0)\n",
    "]\n",
    "\n",
    "no_neg_values_df.describe()"
   ]
  },
  {
   "cell_type": "code",
   "execution_count": 8,
   "metadata": {},
   "outputs": [
    {
     "data": {
      "text/html": [
       "<div>\n",
       "<style scoped>\n",
       "    .dataframe tbody tr th:only-of-type {\n",
       "        vertical-align: middle;\n",
       "    }\n",
       "\n",
       "    .dataframe tbody tr th {\n",
       "        vertical-align: top;\n",
       "    }\n",
       "\n",
       "    .dataframe thead th {\n",
       "        text-align: right;\n",
       "    }\n",
       "</style>\n",
       "<table border=\"1\" class=\"dataframe\">\n",
       "  <thead>\n",
       "    <tr style=\"text-align: right;\">\n",
       "      <th></th>\n",
       "      <th>Quantity</th>\n",
       "      <th>UnitPrice</th>\n",
       "      <th>Totalsale</th>\n",
       "      <th>CustomerID</th>\n",
       "    </tr>\n",
       "  </thead>\n",
       "  <tbody>\n",
       "    <tr>\n",
       "      <th>count</th>\n",
       "      <td>10626.000000</td>\n",
       "      <td>10626.000000</td>\n",
       "      <td>10626.000000</td>\n",
       "      <td>8905.000000</td>\n",
       "    </tr>\n",
       "    <tr>\n",
       "      <th>mean</th>\n",
       "      <td>-45.598438</td>\n",
       "      <td>40.217975</td>\n",
       "      <td>-86.480012</td>\n",
       "      <td>14991.667266</td>\n",
       "    </tr>\n",
       "    <tr>\n",
       "      <th>std</th>\n",
       "      <td>1092.111602</td>\n",
       "      <td>641.765091</td>\n",
       "      <td>1913.347799</td>\n",
       "      <td>1706.772357</td>\n",
       "    </tr>\n",
       "    <tr>\n",
       "      <th>min</th>\n",
       "      <td>-80995.000000</td>\n",
       "      <td>-11062.060000</td>\n",
       "      <td>-168469.600000</td>\n",
       "      <td>12346.000000</td>\n",
       "    </tr>\n",
       "    <tr>\n",
       "      <th>25%</th>\n",
       "      <td>-10.000000</td>\n",
       "      <td>1.060000</td>\n",
       "      <td>-15.950000</td>\n",
       "      <td>13510.000000</td>\n",
       "    </tr>\n",
       "    <tr>\n",
       "      <th>50%</th>\n",
       "      <td>-2.000000</td>\n",
       "      <td>2.100000</td>\n",
       "      <td>-6.800000</td>\n",
       "      <td>14895.000000</td>\n",
       "    </tr>\n",
       "    <tr>\n",
       "      <th>75%</th>\n",
       "      <td>-1.000000</td>\n",
       "      <td>4.950000</td>\n",
       "      <td>-2.100000</td>\n",
       "      <td>16393.000000</td>\n",
       "    </tr>\n",
       "    <tr>\n",
       "      <th>max</th>\n",
       "      <td>1.000000</td>\n",
       "      <td>38970.000000</td>\n",
       "      <td>0.000000</td>\n",
       "      <td>18282.000000</td>\n",
       "    </tr>\n",
       "  </tbody>\n",
       "</table>\n",
       "</div>"
      ],
      "text/plain": [
       "           Quantity     UnitPrice      Totalsale    CustomerID\n",
       "count  10626.000000  10626.000000   10626.000000   8905.000000\n",
       "mean     -45.598438     40.217975     -86.480012  14991.667266\n",
       "std     1092.111602    641.765091    1913.347799   1706.772357\n",
       "min   -80995.000000 -11062.060000 -168469.600000  12346.000000\n",
       "25%      -10.000000      1.060000     -15.950000  13510.000000\n",
       "50%       -2.000000      2.100000      -6.800000  14895.000000\n",
       "75%       -1.000000      4.950000      -2.100000  16393.000000\n",
       "max        1.000000  38970.000000       0.000000  18282.000000"
      ]
     },
     "execution_count": 8,
     "metadata": {},
     "output_type": "execute_result"
    }
   ],
   "source": [
    "neg_values_df = retail_df[\n",
    "\t(retail_df['Quantity'] < 0) |\n",
    "\t(retail_df['UnitPrice'] < 0) |\n",
    "\t(retail_df['Totalsale'] < 0)\n",
    "]\n",
    "\n",
    "neg_values_df.describe()"
   ]
  },
  {
   "cell_type": "code",
   "execution_count": 9,
   "metadata": {},
   "outputs": [
    {
     "data": {
      "text/html": [
       "<div>\n",
       "<style scoped>\n",
       "    .dataframe tbody tr th:only-of-type {\n",
       "        vertical-align: middle;\n",
       "    }\n",
       "\n",
       "    .dataframe tbody tr th {\n",
       "        vertical-align: top;\n",
       "    }\n",
       "\n",
       "    .dataframe thead th {\n",
       "        text-align: right;\n",
       "    }\n",
       "</style>\n",
       "<table border=\"1\" class=\"dataframe\">\n",
       "  <thead>\n",
       "    <tr style=\"text-align: right;\">\n",
       "      <th></th>\n",
       "      <th>InvoiceNo</th>\n",
       "      <th>InvoiceDate</th>\n",
       "      <th>InvoiceTime</th>\n",
       "      <th>StockCode</th>\n",
       "      <th>Description</th>\n",
       "      <th>Quantity</th>\n",
       "      <th>UnitPrice</th>\n",
       "      <th>Totalsale</th>\n",
       "      <th>CustomerID</th>\n",
       "      <th>Country</th>\n",
       "    </tr>\n",
       "  </thead>\n",
       "  <tbody>\n",
       "    <tr>\n",
       "      <th>448618</th>\n",
       "      <td>C575065</td>\n",
       "      <td>08-11-2011</td>\n",
       "      <td>12:40:00 PM</td>\n",
       "      <td>23227</td>\n",
       "      <td>FILIGREE HEART BUTTERFLY WHITE</td>\n",
       "      <td>-3</td>\n",
       "      <td>1.25</td>\n",
       "      <td>-3.75</td>\n",
       "      <td>13924.0</td>\n",
       "      <td>United Kingdom</td>\n",
       "    </tr>\n",
       "    <tr>\n",
       "      <th>363689</th>\n",
       "      <td>C568570</td>\n",
       "      <td>28-09-2011</td>\n",
       "      <td>09:04:00 AM</td>\n",
       "      <td>22558</td>\n",
       "      <td>CLOTHES PEGS RETROSPOT PACK 24</td>\n",
       "      <td>-2</td>\n",
       "      <td>1.65</td>\n",
       "      <td>-3.30</td>\n",
       "      <td>15358.0</td>\n",
       "      <td>United Kingdom</td>\n",
       "    </tr>\n",
       "    <tr>\n",
       "      <th>333167</th>\n",
       "      <td>C566180</td>\n",
       "      <td>09-09-2011</td>\n",
       "      <td>12:52:00 PM</td>\n",
       "      <td>21314</td>\n",
       "      <td>SMALL GLASS HEART TRINKET POT</td>\n",
       "      <td>-1</td>\n",
       "      <td>2.10</td>\n",
       "      <td>-2.10</td>\n",
       "      <td>16173.0</td>\n",
       "      <td>United Kingdom</td>\n",
       "    </tr>\n",
       "    <tr>\n",
       "      <th>217091</th>\n",
       "      <td>C555882</td>\n",
       "      <td>07-06-2011</td>\n",
       "      <td>03:40:00 PM</td>\n",
       "      <td>22842</td>\n",
       "      <td>BISCUIT TIN VINTAGE RED</td>\n",
       "      <td>-1</td>\n",
       "      <td>6.75</td>\n",
       "      <td>-6.75</td>\n",
       "      <td>14625.0</td>\n",
       "      <td>United Kingdom</td>\n",
       "    </tr>\n",
       "    <tr>\n",
       "      <th>148085</th>\n",
       "      <td>549161</td>\n",
       "      <td>06-04-2011</td>\n",
       "      <td>05:15:00 PM</td>\n",
       "      <td>21518</td>\n",
       "      <td>NaN</td>\n",
       "      <td>-31</td>\n",
       "      <td>0.00</td>\n",
       "      <td>0.00</td>\n",
       "      <td>NaN</td>\n",
       "      <td>United Kingdom</td>\n",
       "    </tr>\n",
       "    <tr>\n",
       "      <th>362300</th>\n",
       "      <td>C568420</td>\n",
       "      <td>27-09-2011</td>\n",
       "      <td>11:17:00 AM</td>\n",
       "      <td>22720</td>\n",
       "      <td>SET OF 3 CAKE TINS PANTRY DESIGN</td>\n",
       "      <td>-1</td>\n",
       "      <td>4.95</td>\n",
       "      <td>-4.95</td>\n",
       "      <td>16573.0</td>\n",
       "      <td>United Kingdom</td>\n",
       "    </tr>\n",
       "    <tr>\n",
       "      <th>230551</th>\n",
       "      <td>C557175</td>\n",
       "      <td>17-06-2011</td>\n",
       "      <td>11:13:00 AM</td>\n",
       "      <td>22962</td>\n",
       "      <td>JAM JAR WITH PINK LID</td>\n",
       "      <td>-3</td>\n",
       "      <td>0.85</td>\n",
       "      <td>-2.55</td>\n",
       "      <td>16170.0</td>\n",
       "      <td>United Kingdom</td>\n",
       "    </tr>\n",
       "    <tr>\n",
       "      <th>535329</th>\n",
       "      <td>581206</td>\n",
       "      <td>07-12-2011</td>\n",
       "      <td>06:34:00 PM</td>\n",
       "      <td>21693</td>\n",
       "      <td>mixed up</td>\n",
       "      <td>-87</td>\n",
       "      <td>0.00</td>\n",
       "      <td>0.00</td>\n",
       "      <td>NaN</td>\n",
       "      <td>United Kingdom</td>\n",
       "    </tr>\n",
       "    <tr>\n",
       "      <th>342635</th>\n",
       "      <td>C566899</td>\n",
       "      <td>15-09-2011</td>\n",
       "      <td>01:53:00 PM</td>\n",
       "      <td>AMAZONFEE</td>\n",
       "      <td>AMAZON FEE</td>\n",
       "      <td>-1</td>\n",
       "      <td>7427.97</td>\n",
       "      <td>-7427.97</td>\n",
       "      <td>NaN</td>\n",
       "      <td>United Kingdom</td>\n",
       "    </tr>\n",
       "    <tr>\n",
       "      <th>369956</th>\n",
       "      <td>C569114</td>\n",
       "      <td>30-09-2011</td>\n",
       "      <td>12:50:00 PM</td>\n",
       "      <td>22832</td>\n",
       "      <td>BROCANTE SHELF WITH HOOKS</td>\n",
       "      <td>-2</td>\n",
       "      <td>10.75</td>\n",
       "      <td>-21.50</td>\n",
       "      <td>14911.0</td>\n",
       "      <td>EIRE</td>\n",
       "    </tr>\n",
       "  </tbody>\n",
       "</table>\n",
       "</div>"
      ],
      "text/plain": [
       "       InvoiceNo InvoiceDate  InvoiceTime  StockCode  \\\n",
       "448618   C575065  08-11-2011  12:40:00 PM      23227   \n",
       "363689   C568570  28-09-2011  09:04:00 AM      22558   \n",
       "333167   C566180  09-09-2011  12:52:00 PM      21314   \n",
       "217091   C555882  07-06-2011  03:40:00 PM      22842   \n",
       "148085    549161  06-04-2011  05:15:00 PM      21518   \n",
       "362300   C568420  27-09-2011  11:17:00 AM      22720   \n",
       "230551   C557175  17-06-2011  11:13:00 AM      22962   \n",
       "535329    581206  07-12-2011  06:34:00 PM      21693   \n",
       "342635   C566899  15-09-2011  01:53:00 PM  AMAZONFEE   \n",
       "369956   C569114  30-09-2011  12:50:00 PM      22832   \n",
       "\n",
       "                              Description  Quantity  UnitPrice  Totalsale  \\\n",
       "448618    FILIGREE HEART BUTTERFLY WHITE         -3       1.25      -3.75   \n",
       "363689    CLOTHES PEGS RETROSPOT PACK 24         -2       1.65      -3.30   \n",
       "333167      SMALL GLASS HEART TRINKET POT        -1       2.10      -2.10   \n",
       "217091            BISCUIT TIN VINTAGE RED        -1       6.75      -6.75   \n",
       "148085                                NaN       -31       0.00       0.00   \n",
       "362300  SET OF 3 CAKE TINS PANTRY DESIGN         -1       4.95      -4.95   \n",
       "230551              JAM JAR WITH PINK LID        -3       0.85      -2.55   \n",
       "535329                           mixed up       -87       0.00       0.00   \n",
       "342635                         AMAZON FEE        -1    7427.97   -7427.97   \n",
       "369956          BROCANTE SHELF WITH HOOKS        -2      10.75     -21.50   \n",
       "\n",
       "        CustomerID         Country  \n",
       "448618     13924.0  United Kingdom  \n",
       "363689     15358.0  United Kingdom  \n",
       "333167     16173.0  United Kingdom  \n",
       "217091     14625.0  United Kingdom  \n",
       "148085         NaN  United Kingdom  \n",
       "362300     16573.0  United Kingdom  \n",
       "230551     16170.0  United Kingdom  \n",
       "535329         NaN  United Kingdom  \n",
       "342635         NaN  United Kingdom  \n",
       "369956     14911.0            EIRE  "
      ]
     },
     "execution_count": 9,
     "metadata": {},
     "output_type": "execute_result"
    }
   ],
   "source": [
    "neg_values_df.sample(10)"
   ]
  },
  {
   "cell_type": "code",
   "execution_count": 10,
   "metadata": {},
   "outputs": [
    {
     "data": {
      "text/html": [
       "<div>\n",
       "<style scoped>\n",
       "    .dataframe tbody tr th:only-of-type {\n",
       "        vertical-align: middle;\n",
       "    }\n",
       "\n",
       "    .dataframe tbody tr th {\n",
       "        vertical-align: top;\n",
       "    }\n",
       "\n",
       "    .dataframe thead th {\n",
       "        text-align: right;\n",
       "    }\n",
       "</style>\n",
       "<table border=\"1\" class=\"dataframe\">\n",
       "  <thead>\n",
       "    <tr style=\"text-align: right;\">\n",
       "      <th></th>\n",
       "      <th>InvoiceNo</th>\n",
       "      <th>InvoiceDate</th>\n",
       "      <th>InvoiceTime</th>\n",
       "      <th>StockCode</th>\n",
       "      <th>Description</th>\n",
       "      <th>Quantity</th>\n",
       "      <th>UnitPrice</th>\n",
       "      <th>Totalsale</th>\n",
       "      <th>CustomerID</th>\n",
       "      <th>Country</th>\n",
       "    </tr>\n",
       "  </thead>\n",
       "  <tbody>\n",
       "    <tr>\n",
       "      <th>299983</th>\n",
       "      <td>A563186</td>\n",
       "      <td>12-08-2011</td>\n",
       "      <td>02:51:00 PM</td>\n",
       "      <td>B</td>\n",
       "      <td>Adjust bad debt</td>\n",
       "      <td>1</td>\n",
       "      <td>-11062.06</td>\n",
       "      <td>-11062.06</td>\n",
       "      <td>NaN</td>\n",
       "      <td>United Kingdom</td>\n",
       "    </tr>\n",
       "    <tr>\n",
       "      <th>299984</th>\n",
       "      <td>A563187</td>\n",
       "      <td>12-08-2011</td>\n",
       "      <td>02:52:00 PM</td>\n",
       "      <td>B</td>\n",
       "      <td>Adjust bad debt</td>\n",
       "      <td>1</td>\n",
       "      <td>-11062.06</td>\n",
       "      <td>-11062.06</td>\n",
       "      <td>NaN</td>\n",
       "      <td>United Kingdom</td>\n",
       "    </tr>\n",
       "  </tbody>\n",
       "</table>\n",
       "</div>"
      ],
      "text/plain": [
       "       InvoiceNo InvoiceDate  InvoiceTime StockCode      Description  \\\n",
       "299983   A563186  12-08-2011  02:51:00 PM         B  Adjust bad debt   \n",
       "299984   A563187  12-08-2011  02:52:00 PM         B  Adjust bad debt   \n",
       "\n",
       "        Quantity  UnitPrice  Totalsale  CustomerID         Country  \n",
       "299983         1  -11062.06  -11062.06         NaN  United Kingdom  \n",
       "299984         1  -11062.06  -11062.06         NaN  United Kingdom  "
      ]
     },
     "execution_count": 10,
     "metadata": {},
     "output_type": "execute_result"
    }
   ],
   "source": [
    "neg_values_df[(neg_values_df['UnitPrice'] < 0)]"
   ]
  },
  {
   "cell_type": "code",
   "execution_count": 11,
   "metadata": {},
   "outputs": [
    {
     "data": {
      "text/plain": [
       "InvoiceNo           0\n",
       "InvoiceDate         0\n",
       "InvoiceTime         0\n",
       "StockCode           0\n",
       "Description       592\n",
       "Quantity            0\n",
       "UnitPrice           0\n",
       "Totalsale           0\n",
       "CustomerID     133359\n",
       "Country             0\n",
       "dtype: int64"
      ]
     },
     "execution_count": 11,
     "metadata": {},
     "output_type": "execute_result"
    }
   ],
   "source": [
    "no_neg_values_df.isnull().sum()"
   ]
  },
  {
   "cell_type": "code",
   "execution_count": 12,
   "metadata": {},
   "outputs": [
    {
     "data": {
      "text/plain": [
       "InvoiceNo         0\n",
       "InvoiceDate       0\n",
       "InvoiceTime       0\n",
       "StockCode         0\n",
       "Description     862\n",
       "Quantity          0\n",
       "UnitPrice         0\n",
       "Totalsale         0\n",
       "CustomerID     1721\n",
       "Country           0\n",
       "dtype: int64"
      ]
     },
     "execution_count": 12,
     "metadata": {},
     "output_type": "execute_result"
    }
   ],
   "source": [
    "neg_values_df.isnull().sum()"
   ]
  },
  {
   "cell_type": "code",
   "execution_count": 13,
   "metadata": {},
   "outputs": [
    {
     "name": "stdout",
     "output_type": "stream",
     "text": [
      "no negative values data shape: (531283, 10)\n",
      "negative values data shape: (10626, 10)\n"
     ]
    }
   ],
   "source": [
    "print(f\"no negative values data shape: {no_neg_values_df.shape}\")\n",
    "print(f\"negative values data shape: {neg_values_df.shape}\")"
   ]
  },
  {
   "cell_type": "markdown",
   "metadata": {},
   "source": [
    "It seems like the columns `Quantity`, `UnitPrice` and `Totalsale` have negative for different motives related to the business, so for now we are going to focus exclusively in the data that has no negatives in it. We can see that most of the null values are from this part of the data, which isn't surprisely seen that most of the data are non negative."
   ]
  },
  {
   "cell_type": "markdown",
   "metadata": {},
   "source": [
    "---\n",
    "\n",
    "#### Clean the data\n",
    "\n",
    "- Drop duplicates\n",
    "- Drop all the values in `Description`\n",
    "- `CustomerID` has almost 140k missing values, almost 25% of the data"
   ]
  },
  {
   "cell_type": "code",
   "execution_count": 14,
   "metadata": {},
   "outputs": [],
   "source": [
    "# make a copy of the non negative df\n",
    "retail_df2 = no_neg_values_df.copy()"
   ]
  },
  {
   "cell_type": "code",
   "execution_count": 15,
   "metadata": {},
   "outputs": [],
   "source": [
    "# dropping all duplicates\n",
    "retail_df2.drop_duplicates(inplace=True)\n",
    "\n",
    "# resetting the index\n",
    "retail_df2.reset_index(drop=True, inplace=True)"
   ]
  },
  {
   "cell_type": "code",
   "execution_count": 16,
   "metadata": {},
   "outputs": [],
   "source": [
    "# dropping missing values\n",
    "retail_df2.dropna(subset=['Description'], inplace=True)\n",
    "\n",
    "# making all items lower\n",
    "retail_df2['Description'] = retail_df2['Description'].apply(str.lower)\n",
    "\n",
    "# remove leading and trailing white spaces, and removing \".\"\n",
    "retail_df2['Description'] = retail_df2['Description'].apply(lambda x: x.strip().replace(\".\", \"\"))"
   ]
  },
  {
   "cell_type": "code",
   "execution_count": 17,
   "metadata": {},
   "outputs": [],
   "source": [
    "# replace the missing values to 0\n",
    "retail_df2['CustomerID'] = retail_df2['CustomerID'].fillna(0)\n",
    "\n",
    "# another solution is to drop the rows with missing CustomerID, however in this case it's less recommended for the kind of analysis that I will be doing since nearly 140k rows would be lost, resulting in a significant loss of information.\n",
    "# retail_df2.dropna(subset=['CustomerID'], inplace=True)"
   ]
  },
  {
   "cell_type": "code",
   "execution_count": 18,
   "metadata": {},
   "outputs": [
    {
     "data": {
      "text/plain": [
       "InvoiceNo      0\n",
       "InvoiceDate    0\n",
       "InvoiceTime    0\n",
       "StockCode      0\n",
       "Description    0\n",
       "Quantity       0\n",
       "UnitPrice      0\n",
       "Totalsale      0\n",
       "CustomerID     0\n",
       "Country        0\n",
       "dtype: int64"
      ]
     },
     "execution_count": 18,
     "metadata": {},
     "output_type": "execute_result"
    }
   ],
   "source": [
    "retail_df2.isnull().sum()"
   ]
  },
  {
   "cell_type": "markdown",
   "metadata": {},
   "source": [
    "#### Simple Feature Engineering"
   ]
  },
  {
   "cell_type": "code",
   "execution_count": 19,
   "metadata": {},
   "outputs": [],
   "source": [
    "from lib.feature_engineering import FeatureEngineering\n",
    "\n",
    "fe = FeatureEngineering(retail_df2)\n",
    "\n",
    "# making sure all the invoice dates are formatted well\n",
    "fe.convert_date_column()\n",
    "retail_df2 = fe.data"
   ]
  },
  {
   "cell_type": "code",
   "execution_count": 20,
   "metadata": {},
   "outputs": [],
   "source": [
    "# extracting Year and Month columns\n",
    "fe.extract_year_and_month_column()\n",
    "retail_df2 = fe.data"
   ]
  },
  {
   "cell_type": "code",
   "execution_count": 21,
   "metadata": {},
   "outputs": [],
   "source": [
    "# Add the season column\n",
    "fe.add_season_column()\n",
    "retail_df2 = fe.data"
   ]
  },
  {
   "cell_type": "code",
   "execution_count": 22,
   "metadata": {},
   "outputs": [
    {
     "data": {
      "text/html": [
       "<div>\n",
       "<style scoped>\n",
       "    .dataframe tbody tr th:only-of-type {\n",
       "        vertical-align: middle;\n",
       "    }\n",
       "\n",
       "    .dataframe tbody tr th {\n",
       "        vertical-align: top;\n",
       "    }\n",
       "\n",
       "    .dataframe thead th {\n",
       "        text-align: right;\n",
       "    }\n",
       "</style>\n",
       "<table border=\"1\" class=\"dataframe\">\n",
       "  <thead>\n",
       "    <tr style=\"text-align: right;\">\n",
       "      <th></th>\n",
       "      <th>InvoiceDate</th>\n",
       "      <th>Year</th>\n",
       "      <th>Month</th>\n",
       "      <th>Season</th>\n",
       "    </tr>\n",
       "  </thead>\n",
       "  <tbody>\n",
       "    <tr>\n",
       "      <th>388340</th>\n",
       "      <td>2011-10-16</td>\n",
       "      <td>2011</td>\n",
       "      <td>10</td>\n",
       "      <td>Fall</td>\n",
       "    </tr>\n",
       "    <tr>\n",
       "      <th>432612</th>\n",
       "      <td>2011-11-07</td>\n",
       "      <td>2011</td>\n",
       "      <td>11</td>\n",
       "      <td>Fall</td>\n",
       "    </tr>\n",
       "    <tr>\n",
       "      <th>250729</th>\n",
       "      <td>2011-07-11</td>\n",
       "      <td>2011</td>\n",
       "      <td>7</td>\n",
       "      <td>Summer</td>\n",
       "    </tr>\n",
       "    <tr>\n",
       "      <th>257948</th>\n",
       "      <td>2011-07-15</td>\n",
       "      <td>2011</td>\n",
       "      <td>7</td>\n",
       "      <td>Summer</td>\n",
       "    </tr>\n",
       "    <tr>\n",
       "      <th>369577</th>\n",
       "      <td>2011-10-06</td>\n",
       "      <td>2011</td>\n",
       "      <td>10</td>\n",
       "      <td>Fall</td>\n",
       "    </tr>\n",
       "  </tbody>\n",
       "</table>\n",
       "</div>"
      ],
      "text/plain": [
       "       InvoiceDate  Year  Month  Season\n",
       "388340  2011-10-16  2011     10    Fall\n",
       "432612  2011-11-07  2011     11    Fall\n",
       "250729  2011-07-11  2011      7  Summer\n",
       "257948  2011-07-15  2011      7  Summer\n",
       "369577  2011-10-06  2011     10    Fall"
      ]
     },
     "execution_count": 22,
     "metadata": {},
     "output_type": "execute_result"
    }
   ],
   "source": [
    "retail_df2[['InvoiceDate', 'Year', 'Month', 'Season']].sample(5)"
   ]
  },
  {
   "cell_type": "code",
   "execution_count": 23,
   "metadata": {},
   "outputs": [],
   "source": [
    "retail_df2['AM_or_PM'] = retail_df2['InvoiceTime'].apply(fe.extract_am_pm)"
   ]
  },
  {
   "cell_type": "code",
   "execution_count": 24,
   "metadata": {},
   "outputs": [
    {
     "data": {
      "text/html": [
       "<div>\n",
       "<style scoped>\n",
       "    .dataframe tbody tr th:only-of-type {\n",
       "        vertical-align: middle;\n",
       "    }\n",
       "\n",
       "    .dataframe tbody tr th {\n",
       "        vertical-align: top;\n",
       "    }\n",
       "\n",
       "    .dataframe thead th {\n",
       "        text-align: right;\n",
       "    }\n",
       "</style>\n",
       "<table border=\"1\" class=\"dataframe\">\n",
       "  <thead>\n",
       "    <tr style=\"text-align: right;\">\n",
       "      <th></th>\n",
       "      <th>InvoiceTime</th>\n",
       "      <th>AM_or_PM</th>\n",
       "    </tr>\n",
       "  </thead>\n",
       "  <tbody>\n",
       "    <tr>\n",
       "      <th>495048</th>\n",
       "      <td>12:52:00 PM</td>\n",
       "      <td>PM</td>\n",
       "    </tr>\n",
       "    <tr>\n",
       "      <th>480006</th>\n",
       "      <td>01:39:00 PM</td>\n",
       "      <td>PM</td>\n",
       "    </tr>\n",
       "    <tr>\n",
       "      <th>254557</th>\n",
       "      <td>01:14:00 PM</td>\n",
       "      <td>PM</td>\n",
       "    </tr>\n",
       "    <tr>\n",
       "      <th>122134</th>\n",
       "      <td>01:28:00 PM</td>\n",
       "      <td>PM</td>\n",
       "    </tr>\n",
       "    <tr>\n",
       "      <th>81021</th>\n",
       "      <td>11:56:00 AM</td>\n",
       "      <td>AM</td>\n",
       "    </tr>\n",
       "  </tbody>\n",
       "</table>\n",
       "</div>"
      ],
      "text/plain": [
       "        InvoiceTime AM_or_PM\n",
       "495048  12:52:00 PM       PM\n",
       "480006  01:39:00 PM       PM\n",
       "254557  01:14:00 PM       PM\n",
       "122134  01:28:00 PM       PM\n",
       "81021   11:56:00 AM       AM"
      ]
     },
     "execution_count": 24,
     "metadata": {},
     "output_type": "execute_result"
    }
   ],
   "source": [
    "retail_df2[['InvoiceTime', 'AM_or_PM']].sample(5)"
   ]
  },
  {
   "cell_type": "code",
   "execution_count": 25,
   "metadata": {},
   "outputs": [
    {
     "name": "stdout",
     "output_type": "stream",
     "text": [
      "<class 'pandas.core.frame.DataFrame'>\n",
      "Index: 525460 entries, 0 to 526051\n",
      "Data columns (total 14 columns):\n",
      " #   Column       Non-Null Count   Dtype         \n",
      "---  ------       --------------   -----         \n",
      " 0   InvoiceNo    525460 non-null  object        \n",
      " 1   InvoiceDate  525460 non-null  datetime64[ns]\n",
      " 2   InvoiceTime  525460 non-null  object        \n",
      " 3   StockCode    525460 non-null  object        \n",
      " 4   Description  525460 non-null  object        \n",
      " 5   Quantity     525460 non-null  int64         \n",
      " 6   UnitPrice    525460 non-null  float64       \n",
      " 7   Totalsale    525460 non-null  float64       \n",
      " 8   CustomerID   525460 non-null  float64       \n",
      " 9   Country      525460 non-null  object        \n",
      " 10  Year         525460 non-null  int32         \n",
      " 11  Month        525460 non-null  int32         \n",
      " 12  Season       525460 non-null  object        \n",
      " 13  AM_or_PM     525460 non-null  object        \n",
      "dtypes: datetime64[ns](1), float64(3), int32(2), int64(1), object(7)\n",
      "memory usage: 56.1+ MB\n"
     ]
    }
   ],
   "source": [
    "retail_df2.info()"
   ]
  },
  {
   "cell_type": "code",
   "execution_count": 26,
   "metadata": {},
   "outputs": [],
   "source": [
    "# save the new transformed data into a csv\n",
    "retail_df2.to_csv('db/Online-Retail-Transformed.csv', index=False)"
   ]
  },
  {
   "cell_type": "markdown",
   "metadata": {},
   "source": [
    "---\n",
    "### Next part of the project\n",
    "Once finished with the preprocessing of the data we can start a EDA\n",
    "\n",
    "[2. Exploratory Data Analysis Univariate](2.online_retail_univariate.ipynb)"
   ]
  }
 ],
 "metadata": {
  "kernelspec": {
   "display_name": "Python 3 (ipykernel)",
   "language": "python",
   "name": "python3"
  },
  "language_info": {
   "codemirror_mode": {
    "name": "ipython",
    "version": 3
   },
   "file_extension": ".py",
   "mimetype": "text/x-python",
   "name": "python",
   "nbconvert_exporter": "python",
   "pygments_lexer": "ipython3",
   "version": "3.11.11"
  }
 },
 "nbformat": 4,
 "nbformat_minor": 2
}
